{
 "cells": [
  {
   "cell_type": "markdown",
   "metadata": {},
   "source": [
    "# Реализация линейной операции в TensorFlow"
   ]
  },
  {
   "cell_type": "code",
   "execution_count": 1,
   "metadata": {},
   "outputs": [
    {
     "name": "stderr",
     "output_type": "stream",
     "text": [
      "/home/evgeny/.local/lib/python3.6/site-packages/h5py/__init__.py:36: FutureWarning: Conversion of the second argument of issubdtype from `float` to `np.floating` is deprecated. In future, it will be treated as `np.float64 == np.dtype(float).type`.\n",
      "  from ._conv import register_converters as _register_converters\n"
     ]
    }
   ],
   "source": [
    "import numpy as np\n",
    "import tensorflow as tf"
   ]
  },
  {
   "cell_type": "code",
   "execution_count": 2,
   "metadata": {},
   "outputs": [],
   "source": [
    "%matplotlib inline\n",
    "from matplotlib import pyplot as plt"
   ]
  },
  {
   "cell_type": "markdown",
   "metadata": {},
   "source": [
    "## Генерируем данные для задачи регрессии"
   ]
  },
  {
   "cell_type": "code",
   "execution_count": 3,
   "metadata": {},
   "outputs": [],
   "source": [
    "NUM_FEATURES = 1\n",
    "NUM_SAMPLES = 995"
   ]
  },
  {
   "cell_type": "code",
   "execution_count": 4,
   "metadata": {},
   "outputs": [
    {
     "data": {
      "image/png": "[encoded data removed]",
      "text/plain": [
       "<Figure size 432x288 with 1 Axes>"
      ]
     },
     "metadata": {
      "needs_background": "light"
     },
     "output_type": "display_data"
    }
   ],
   "source": [
    "from sklearn.datasets import make_regression\n",
    "\n",
    "X, y = make_regression(n_samples = NUM_SAMPLES,\n",
    "                       n_features = NUM_FEATURES,\n",
    "                       n_informative = NUM_FEATURES,\n",
    "                       noise = 20,\n",
    "                       bias = 40,\n",
    "                       random_state = 1442)\n",
    "\n",
    "y = y.reshape(-1, 1)\n",
    "\n",
    "order = np.argsort(X[:, 0])  # данные упорядочены по X\n",
    "\n",
    "plt.xlabel('x')\n",
    "plt.ylabel('y')\n",
    "plt.plot(X[order, 0], y[order], 'o');"
   ]
  },
  {
   "cell_type": "markdown",
   "metadata": {},
   "source": [
    "## Вспомогательная функция для создания операций"
   ]
  },
  {
   "cell_type": "code",
   "execution_count": 5,
   "metadata": {},
   "outputs": [],
   "source": [
    "import string\n",
    "\n",
    "def py_func_with_grad(func, inp, Tout, grad, name = None, stateful = False, graph = None):\n",
    "    \n",
    "\n",
    "    name_prefix = ''.join(np.random.choice(list(string.ascii_letters), size = 10))\n",
    "    \n",
    "    name = '%s_%s' % (name_prefix, name or '')\n",
    "    grad_func_name = '%s_grad' % name\n",
    "\n",
    "    tf.RegisterGradient(grad_func_name)(grad)\n",
    "\n",
    "    g = graph or tf.get_default_graph()\n",
    "    with g.gradient_override_map({'PyFunc': grad_func_name, \n",
    "                                  'PyFuncStateless': grad_func_name}):\n",
    "        with tf.name_scope(name, 'PyFuncOp', inp):\n",
    "            return tf.py_func(func, inp, Tout, stateful = stateful, name = name)"
   ]
  },
  {
   "cell_type": "markdown",
   "metadata": {},
   "source": [
    "## Реализация линейной опреаций"
   ]
  },
  {
   "cell_type": "code",
   "execution_count": 6,
   "metadata": {},
   "outputs": [],
   "source": [
    "def linear_op_forward(X, W, b):\n",
    "    ''' Реализация линейной операции '''\n",
    "    return np.dot(X, W.T) + b  # аргументы являются numpy-массивами\n",
    "\n",
    "def linear_op_backward(op, grads):\n",
    "    ''' Реализация вычисления градиента линейной операции '''\n",
    "    X = op.inputs[0]  # тензор входных данных\n",
    "    W = op.inputs[1]  # weigths matrix\n",
    "    \n",
    "    with tf.variable_scope(\"dX\"):\n",
    "        dX = tf.multiply(grads, W)\n",
    "    with tf.variable_scope(\"dW\"):\n",
    "        dW = tf.reduce_mean(tf.multiply(X, grads),\n",
    "                        axis = 0,\n",
    "                        keep_dims = True)\n",
    "    with tf.variable_scope(\"dB\"):\n",
    "        dB = tf.reduce_mean(grads, axis=0)  # this is equal to tf.reduce_mean(tf.ones_like(grads) * grads, axis=0) \n",
    "#         dB = tf.reduce_mean(tf.ones_like(grads) * grads, axis=0)\n",
    "    return dX, dW, dB"
   ]
  },
  {
   "cell_type": "markdown",
   "metadata": {},
   "source": [
    "## Создание графа вычислений и обучение модели"
   ]
  },
  {
   "cell_type": "code",
   "execution_count": 7,
   "metadata": {
    "scrolled": false
   },
   "outputs": [
    {
     "name": "stdout",
     "output_type": "stream",
     "text": [
      "batch_size:  99\n",
      "WARNING:tensorflow:From <ipython-input-6-0f658f54697a>:15: calling reduce_mean (from tensorflow.python.ops.math_ops) with keep_dims is deprecated and will be removed in a future version.\n",
      "Instructions for updating:\n",
      "keep_dims is deprecated, use keepdims instead\n",
      "[000] loss=4529.684 weights=[[1.5671246]] bias = [0.69041514]\n",
      "[010] loss=3612.364 weights=[[10.8688545]] bias = [7.6770144]\n",
      "[020] loss=2438.026 weights=[[18.331343]] bias = [13.355675]\n",
      "[030] loss=1724.992 weights=[[24.451172]] bias = [18.072865]\n",
      "[040] loss=1245.256 weights=[[29.533022]] bias = [21.904573]\n",
      "[050] loss=964.660 weights=[[33.74173]] bias = [25.11614]\n",
      "[060] loss=933.698 weights=[[37.36159]] bias = [27.764622]\n",
      "[070] loss=843.961 weights=[[40.17014]] bias = [29.901712]\n",
      "[080] loss=556.539 weights=[[42.318054]] bias = [31.626904]\n",
      "[090] loss=517.336 weights=[[44.320065]] bias = [33.09596]\n",
      "[100] loss=517.091 weights=[[45.9457]] bias = [34.295082]\n",
      "[110] loss=337.777 weights=[[47.203323]] bias = [35.31403]\n",
      "[120] loss=445.023 weights=[[48.310524]] bias = [36.11935]\n",
      "[130] loss=501.798 weights=[[49.22837]] bias = [36.755306]\n",
      "[140] loss=443.227 weights=[[49.843956]] bias = [37.33637]\n",
      "[150] loss=445.945 weights=[[50.571014]] bias = [37.801224]\n",
      "[160] loss=455.020 weights=[[50.891354]] bias = [38.095276]\n",
      "[170] loss=329.572 weights=[[51.328835]] bias = [38.42274]\n",
      "[180] loss=437.553 weights=[[51.65452]] bias = [38.561184]\n",
      "[190] loss=412.048 weights=[[51.926666]] bias = [38.895668]\n",
      "[200] loss=436.217 weights=[[52.128723]] bias = [39.06077]\n",
      "[210] loss=385.977 weights=[[52.375916]] bias = [39.20477]\n",
      "[220] loss=459.644 weights=[[52.56791]] bias = [39.325256]\n",
      "[230] loss=319.286 weights=[[52.618664]] bias = [39.464436]\n",
      "[240] loss=314.527 weights=[[52.7423]] bias = [39.49244]\n",
      "[250] loss=403.552 weights=[[52.80452]] bias = [39.527756]\n",
      "[260] loss=420.416 weights=[[52.958622]] bias = [39.607986]\n",
      "[270] loss=392.973 weights=[[52.93968]] bias = [39.60987]\n",
      "[280] loss=461.773 weights=[[53.04014]] bias = [39.67126]\n",
      "[290] loss=404.345 weights=[[53.021812]] bias = [39.743237]\n"
     ]
    }
   ],
   "source": [
    "BATCH_SIZE = NUM_SAMPLES // 10\n",
    "print(\"batch_size: \", BATCH_SIZE)\n",
    "\n",
    "weights = None  # в этой переменной мы сохраним результат обучения модели\n",
    "learning_curve = []  # значения ошибки на каждой итерации обучения\n",
    "\n",
    "with tf.Session(graph = tf.Graph()) as sess:  # инициализируем сессию вычислений\n",
    "    \n",
    "    # создаем placeholdr'ы, через них мы будем\n",
    "    # передавать внешние данные в граф вычислений\n",
    "    plh_X = tf.placeholder(dtype = tf.float32, shape = [None, NUM_FEATURES])\n",
    "    plh_y = tf.placeholder(dtype = tf.float32, shape = [None, 1])\n",
    "\n",
    "    # создаем переменную для хранения весов модели\n",
    "    # эти веса будут изменяться в процессе обучения\n",
    "    var_W = tf.Variable(tf.random_uniform(shape = [1, NUM_FEATURES],\n",
    "                                          dtype = tf.float32,\n",
    "                                          seed = 12345))\n",
    "    var_b = tf.Variable(tf.zeros(shape=[1, ], dtype=tf.float32))\n",
    "    \n",
    "    # создаем переменную для результата предсказания модели\n",
    "    var_Pred = py_func_with_grad(linear_op_forward,         # функция предсказания модели \n",
    "                                 [plh_X, var_W, var_b],     # аргументы функции\n",
    "                                 [tf.float32],              # тип выходных значений\n",
    "                                 name = 'linear_op',        # имя операции \n",
    "                                 grad = linear_op_backward, # функция для вычисления градиента\n",
    "                                 graph = sess.graph)        # объект графа вчислений\n",
    "    \n",
    "    # определяем квадратичную функцию потерь\n",
    "    # результат предсказания сравнивается с правильным ответом для вычисления ошибки\n",
    "    cost = tf.reduce_mean(tf.square(plh_y - var_Pred))\n",
    "    \n",
    "    # инициализируем оптимизатор и указываем скорость обучения\n",
    "    optimizer = tf.train.GradientDescentOptimizer(\n",
    "        learning_rate = 0.9).minimize(cost)\n",
    "\n",
    "    # инициализируем placeholder'ы и переменные\n",
    "    sess.run(tf.global_variables_initializer())\n",
    "    \n",
    "    indices = np.arange(len(X))  # массив индексов объектов\n",
    "    \n",
    "    # выполняем итерации по 10-ти эпохам\n",
    "    for epoch in range(30):\n",
    "        \n",
    "        # вначале каждой эпохи перемешиваем индексы\n",
    "        np.random.shuffle(indices)\n",
    "        \n",
    "        # внутри каждой эпохи данные разбиваются на батчи\n",
    "        for batch in range(len(X) // BATCH_SIZE):\n",
    "            \n",
    "            # выбираем индексы очередного батча\n",
    "            batch_indices = indices[batch * BATCH_SIZE:(batch + 1) * BATCH_SIZE]\n",
    "\n",
    "            # выполняем шаг обучения: вычисляем ошибку и обновляем веса\n",
    "            loss, _ = sess.run([cost, optimizer],  # указываем, какие операции необходимо выполнить\n",
    "                               # передаем входные данные для вычисления\n",
    "                               feed_dict = {plh_X: X[batch_indices],  \n",
    "                                            plh_y: y[batch_indices]}\n",
    "                              )\n",
    "        \n",
    "            # сохраняем занчения ошибки для построения кривой обучения\n",
    "            learning_curve.append(loss)\n",
    "            \n",
    "            # выводим текущее значение ошибки для каждого 10го шага\n",
    "            steps = len(learning_curve) - 1\n",
    "            if steps % 10 == 0:\n",
    "                print('[%03d] loss=%.3f weights=%s bias = %s' % (steps, loss, var_W.eval(), var_b.eval()))\n",
    "    \n",
    "    # сохраняем обученные веса\n",
    "    weights = var_W.eval()\n",
    "    bias = var_b.eval()"
   ]
  },
  {
   "cell_type": "markdown",
   "metadata": {},
   "source": [
    "## Визуализируем кривую обучения"
   ]
  },
  {
   "cell_type": "code",
   "execution_count": 8,
   "metadata": {},
   "outputs": [
    {
     "data": {
      "image/png": "[encoded data removed]",
      "text/plain": [
       "<Figure size 432x288 with 1 Axes>"
      ]
     },
     "metadata": {
      "needs_background": "light"
     },
     "output_type": "display_data"
    }
   ],
   "source": [
    "plt.xlabel('step')\n",
    "plt.ylabel('loss')\n",
    "plt.title('Learning curve')\n",
    "plt.plot(learning_curve);"
   ]
  },
  {
   "cell_type": "markdown",
   "metadata": {},
   "source": [
    "## Визуализируем предсказания модели"
   ]
  },
  {
   "cell_type": "code",
   "execution_count": 9,
   "metadata": {},
   "outputs": [
    {
     "data": {
      "image/png": "[encoded data removed]",
      "text/plain": [
       "<Figure size 432x288 with 1 Axes>"
      ]
     },
     "metadata": {
      "needs_background": "light"
     },
     "output_type": "display_data"
    }
   ],
   "source": [
    "y_pred = np.dot(X, weights.T) + bias  # предсказание модели\n",
    "\n",
    "plt.xlabel('x')\n",
    "plt.ylabel('y')\n",
    "plt.plot(X[order, 0], y[order], 'o',\n",
    "         X[order, 0], y_pred[order], '-');"
   ]
  },
  {
   "cell_type": "code",
   "execution_count": 11,
   "metadata": {},
   "outputs": [
    {
     "data": {
      "text/plain": [
       "array([[ 45.15573728],\n",
       "       [ -3.49182439],\n",
       "       [-14.91448336],\n",
       "       [-34.50328689],\n",
       "       [ 98.00705393],\n",
       "       [ 72.38972792],\n",
       "       [ 86.56449075],\n",
       "       [-42.06495192],\n",
       "       [ 21.62119618],\n",
       "       [  3.58614796]])"
      ]
     },
     "execution_count": 11,
     "metadata": {},
     "output_type": "execute_result"
    }
   ],
   "source": [
    "y_pred[:10]"
   ]
  },
  {
   "cell_type": "code",
   "execution_count": null,
   "metadata": {},
   "outputs": [],
   "source": []
  }
 ],
 "metadata": {
  "kernelspec": {
   "display_name": "Python 3",
   "language": "python",
   "name": "python3"
  },
  "language_info": {
   "codemirror_mode": {
    "name": "ipython",
    "version": 3
   },
   "file_extension": ".py",
   "mimetype": "text/x-python",
   "name": "python",
   "nbconvert_exporter": "python",
   "pygments_lexer": "ipython3",
   "version": "3.6.6+"
  }
 },
 "nbformat": 4,
 "nbformat_minor": 2
}
