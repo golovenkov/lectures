{
 "cells": [
  {
   "cell_type": "markdown",
   "metadata": {},
   "source": [
    "# Реализация линейной операции в TensorFlow"
   ]
  },
  {
   "cell_type": "code",
   "execution_count": 1,
   "metadata": {},
   "outputs": [
    {
     "name": "stderr",
     "output_type": "stream",
     "text": [
      "/home/evgeny/.local/lib/python3.6/site-packages/h5py/__init__.py:36: FutureWarning: Conversion of the second argument of issubdtype from `float` to `np.floating` is deprecated. In future, it will be treated as `np.float64 == np.dtype(float).type`.\n",
      "  from ._conv import register_converters as _register_converters\n"
     ]
    }
   ],
   "source": [
    "import numpy as np\n",
    "import tensorflow as tf"
   ]
  },
  {
   "cell_type": "code",
   "execution_count": 2,
   "metadata": {},
   "outputs": [],
   "source": [
    "%matplotlib inline\n",
    "from matplotlib import pyplot as plt"
   ]
  },
  {
   "cell_type": "markdown",
   "metadata": {},
   "source": [
    "## Генерируем данные для задачи регрессии"
   ]
  },
  {
   "cell_type": "code",
   "execution_count": 3,
   "metadata": {},
   "outputs": [],
   "source": [
    "NUM_FEATURES = 1\n",
    "NUM_SAMPLES = 995"
   ]
  },
  {
   "cell_type": "code",
   "execution_count": 116,
   "metadata": {},
   "outputs": [
    {
     "data": {
      "image/png": "[encoded data removed]",
      "text/plain": [
       "<Figure size 432x288 with 1 Axes>"
      ]
     },
     "metadata": {
      "needs_background": "light"
     },
     "output_type": "display_data"
    }
   ],
   "source": [
    "from sklearn.datasets import make_regression\n",
    "\n",
    "X, y = make_regression(n_samples = NUM_SAMPLES,\n",
    "                       n_features = NUM_FEATURES,\n",
    "                       n_informative = NUM_FEATURES,\n",
    "                       noise = 20,\n",
    "                       bias = 40,\n",
    "                       random_state = 1442)\n",
    "\n",
    "y = y.reshape(-1, 1)\n",
    "\n",
    "order = np.argsort(X[:, 0])  # данные упорядочены по X\n",
    "\n",
    "plt.xlabel('x')\n",
    "plt.ylabel('y')\n",
    "plt.plot(X[order, 0], y[order], 'o');"
   ]
  },
  {
   "cell_type": "markdown",
   "metadata": {},
   "source": [
    "## Вспомогательная функция для создания операций"
   ]
  },
  {
   "cell_type": "code",
   "execution_count": 117,
   "metadata": {},
   "outputs": [],
   "source": [
    "import string\n",
    "\n",
    "def py_func_with_grad(func, inp, Tout, grad, name = None, stateful = False, graph = None):\n",
    "    \n",
    "\n",
    "    name_prefix = ''.join(np.random.choice(list(string.ascii_letters), size = 10))\n",
    "    \n",
    "    name = '%s_%s' % (name_prefix, name or '')\n",
    "    grad_func_name = '%s_grad' % name\n",
    "\n",
    "    tf.RegisterGradient(grad_func_name)(grad)\n",
    "\n",
    "    g = graph or tf.get_default_graph()\n",
    "    with g.gradient_override_map({'PyFunc': grad_func_name, \n",
    "                                  'PyFuncStateless': grad_func_name}):\n",
    "        with tf.name_scope(name, 'PyFuncOp', inp):\n",
    "            return tf.py_func(func, inp, Tout, stateful = stateful, name = name)"
   ]
  },
  {
   "cell_type": "markdown",
   "metadata": {},
   "source": [
    "## Реализация линейной опреаций"
   ]
  },
  {
   "cell_type": "code",
   "execution_count": 129,
   "metadata": {},
   "outputs": [
    {
     "data": {
      "text/plain": [
       "array([[11. ],\n",
       "       [14. ],\n",
       "       [18.5]])"
      ]
     },
     "execution_count": 129,
     "metadata": {},
     "output_type": "execute_result"
    }
   ],
   "source": [
    "np.dot(np.array([[3.0], [4.0], [5.5]]), np.array([[3.]])) + np.array([2,])"
   ]
  },
  {
   "cell_type": "code",
   "execution_count": 173,
   "metadata": {},
   "outputs": [],
   "source": [
    "def linear_op_forward(X, W, b):\n",
    "    ''' Реализация линейной операции '''\n",
    "    return np.dot(X, W.T) + b  # аргументы являются numpy-массивами\n",
    "\n",
    "def linear_op_backward(op, grads):\n",
    "    ''' Реализация вычисления градиента линейной операции '''\n",
    "    X = op.inputs[0]  # тензор входных данных\n",
    "    W = op.inputs[1]  # weigths matrix\n",
    "    b = op.inputs[2]  # bias\n",
    "    with tf.variable_scope(\"dX\"):\n",
    "        dX = tf.multiply(grads, W)\n",
    "    with tf.variable_scope(\"dW\"):\n",
    "        dW = tf.reduce_mean(tf.multiply(X, grads),\n",
    "                        axis = 0,\n",
    "                        keep_dims = True)\n",
    "    with tf.variable_scope(\"dB\"):\n",
    "        dB = tf.reduce_mean(grads, axis=0)  # this is equal to tf.reduce_mean(tf.ones_like(grads) * grads, axis=0) \n",
    "#         dB = tf.reduce_mean(tf.ones_like(grads) * grads, axis=0)\n",
    "    return dX, dW, dB"
   ]
  },
  {
   "cell_type": "code",
   "execution_count": 85,
   "metadata": {},
   "outputs": [],
   "source": [
    "# with tf.Session() as sess:\n",
    "#     print(sess.run(tf.multiply(tf.ones(shape=(99, 1), dtype=tf.float32), tf.zeros(shape=(99, 1), dtype=tf.float32))))"
   ]
  },
  {
   "cell_type": "markdown",
   "metadata": {},
   "source": [
    "## Создание графа вычислений и обучение модели"
   ]
  },
  {
   "cell_type": "code",
   "execution_count": 174,
   "metadata": {
    "scrolled": false
   },
   "outputs": [
    {
     "name": "stdout",
     "output_type": "stream",
     "text": [
      "batch_size:  99\n",
      "[000] loss=5284.757 weights=[[1.6974275]] bias = [0.8196622]\n",
      "[010] loss=4304.515 weights=[[11.007761]] bias = [7.7866316]\n",
      "[020] loss=2233.928 weights=[[18.331808]] bias = [13.354305]\n",
      "[030] loss=1978.202 weights=[[24.599783]] bias = [18.16832]\n",
      "[040] loss=975.094 weights=[[29.476494]] bias = [21.876562]\n",
      "[050] loss=1283.893 weights=[[33.876633]] bias = [25.168606]\n",
      "[060] loss=1069.116 weights=[[37.351856]] bias = [27.787443]\n",
      "[070] loss=778.907 weights=[[40.074203]] bias = [29.867205]\n",
      "[080] loss=592.208 weights=[[42.42621]] bias = [31.670649]\n",
      "[090] loss=603.445 weights=[[44.437347]] bias = [33.13694]\n",
      "[100] loss=456.308 weights=[[45.91384]] bias = [34.29911]\n",
      "[110] loss=522.430 weights=[[47.256424]] bias = [35.279568]\n",
      "[120] loss=428.699 weights=[[48.230774]] bias = [36.075256]\n",
      "[130] loss=412.772 weights=[[49.110634]] bias = [36.79972]\n",
      "[140] loss=391.178 weights=[[49.885086]] bias = [37.346207]\n",
      "[150] loss=414.681 weights=[[50.457134]] bias = [37.79974]\n",
      "[160] loss=382.712 weights=[[50.969887]] bias = [38.143654]\n",
      "[170] loss=412.286 weights=[[51.280403]] bias = [38.422882]\n",
      "[180] loss=391.889 weights=[[51.665676]] bias = [38.73624]\n",
      "[190] loss=462.764 weights=[[52.013294]] bias = [38.933147]\n",
      "[200] loss=439.130 weights=[[52.152077]] bias = [39.06211]\n",
      "[210] loss=362.294 weights=[[52.384075]] bias = [39.282]\n",
      "[220] loss=376.705 weights=[[52.506462]] bias = [39.31991]\n",
      "[230] loss=436.410 weights=[[52.63396]] bias = [39.449966]\n",
      "[240] loss=475.265 weights=[[52.711273]] bias = [39.470684]\n",
      "[250] loss=544.969 weights=[[52.798477]] bias = [39.583107]\n",
      "[260] loss=425.631 weights=[[52.880043]] bias = [39.579514]\n",
      "[270] loss=411.425 weights=[[53.023396]] bias = [39.64184]\n",
      "[280] loss=396.055 weights=[[53.009727]] bias = [39.68911]\n",
      "[290] loss=404.183 weights=[[53.08893]] bias = [39.71812]\n"
     ]
    }
   ],
   "source": [
    "BATCH_SIZE = NUM_SAMPLES // 10\n",
    "print(\"batch_size: \", BATCH_SIZE)\n",
    "\n",
    "weights = None  # в этой переменной мы сохраним результат обучения модели\n",
    "learning_curve = []  # значения ошибки на каждой итерации обучения\n",
    "\n",
    "with tf.Session(graph = tf.Graph()) as sess:  # инициализируем сессию вычислений\n",
    "    \n",
    "    # создаем placeholdr'ы, через них мы будем\n",
    "    # передавать внешние данные в граф вычислений\n",
    "    plh_X = tf.placeholder(dtype = tf.float32, shape = [None, NUM_FEATURES])\n",
    "    plh_y = tf.placeholder(dtype = tf.float32, shape = [None, 1])\n",
    "\n",
    "    # создаем переменную для хранения весов модели\n",
    "    # эти веса будут изменяться в процессе обучения\n",
    "    var_W = tf.Variable(tf.random_uniform(shape = [1, NUM_FEATURES],\n",
    "                                          dtype = tf.float32,\n",
    "                                          seed = 12345))\n",
    "    var_b = tf.Variable(tf.zeros(shape=[1, ], dtype=tf.float32))\n",
    "    \n",
    "    # создаем переменную для результата предсказания модели\n",
    "    var_Pred = py_func_with_grad(linear_op_forward,         # функция предсказания модели \n",
    "                                 [plh_X, var_W, var_b],     # аргументы функции\n",
    "                                 [tf.float32],              # тип выходных значений\n",
    "                                 name = 'linear_op',        # имя операции \n",
    "                                 grad = linear_op_backward, # функция для вычисления градиента\n",
    "                                 graph = sess.graph)        # объект графа вчислений\n",
    "    \n",
    "    # определяем квадратичную функцию потерь\n",
    "    # результат предсказания сравнивается с правильным ответом для вычисления ошибки\n",
    "    cost = tf.reduce_mean(tf.square(plh_y - var_Pred))\n",
    "    \n",
    "    # инициализируем оптимизатор и указываем скорость обучения\n",
    "    optimizer = tf.train.GradientDescentOptimizer(\n",
    "        learning_rate = 0.9).minimize(cost)\n",
    "\n",
    "    # инициализируем placeholder'ы и переменные\n",
    "    sess.run(tf.global_variables_initializer())\n",
    "    \n",
    "    indices = np.arange(len(X))  # массив индексов объектов\n",
    "    \n",
    "    # выполняем итерации по 10-ти эпохам\n",
    "    for epoch in range(30):\n",
    "        \n",
    "        # вначале каждой эпохи перемешиваем индексы\n",
    "        np.random.shuffle(indices)\n",
    "        \n",
    "        # внутри каждой эпохи данные разбиваются на батчи\n",
    "        for batch in range(len(X) // BATCH_SIZE):\n",
    "            \n",
    "            # выбираем индексы очередного батча\n",
    "            batch_indices = indices[batch * BATCH_SIZE:(batch + 1) * BATCH_SIZE]\n",
    "\n",
    "            # выполняем шаг обучения: вычисляем ошибку и обновляем веса\n",
    "            loss, _ = sess.run([cost, optimizer],  # указываем, какие операции необходимо выполнить\n",
    "                               # передаем входные данные для вычисления\n",
    "                               feed_dict = {plh_X: X[batch_indices],  \n",
    "                                            plh_y: y[batch_indices]}\n",
    "                              )\n",
    "        \n",
    "            # сохраняем занчения ошибки для построения кривой обучения\n",
    "            learning_curve.append(loss)\n",
    "            \n",
    "            # выводим текущее значение ошибки для каждого 10го шага\n",
    "            steps = len(learning_curve) - 1\n",
    "            if steps % 10 == 0:\n",
    "                print('[%03d] loss=%.3f weights=%s bias = %s' % (steps, loss, var_W.eval(), var_b.eval()))\n",
    "    \n",
    "    # сохраняем обученные веса\n",
    "    weights = var_W.eval()\n",
    "    bias = var_b.eval()"
   ]
  },
  {
   "cell_type": "markdown",
   "metadata": {},
   "source": [
    "## Визуализируем кривую обучения"
   ]
  },
  {
   "cell_type": "code",
   "execution_count": 175,
   "metadata": {},
   "outputs": [
    {
     "data": {
      "image/png": "[encoded data removed]",
      "text/plain": [
       "<Figure size 432x288 with 1 Axes>"
      ]
     },
     "metadata": {
      "needs_background": "light"
     },
     "output_type": "display_data"
    }
   ],
   "source": [
    "plt.xlabel('step')\n",
    "plt.ylabel('loss')\n",
    "plt.title('Learning curve')\n",
    "plt.plot(learning_curve);"
   ]
  },
  {
   "cell_type": "markdown",
   "metadata": {},
   "source": [
    "## Визуализируем предсказания модели"
   ]
  },
  {
   "cell_type": "code",
   "execution_count": 176,
   "metadata": {},
   "outputs": [
    {
     "data": {
      "image/png": "[encoded data removed]",
      "text/plain": [
       "<Figure size 432x288 with 1 Axes>"
      ]
     },
     "metadata": {
      "needs_background": "light"
     },
     "output_type": "display_data"
    }
   ],
   "source": [
    "y_pred = np.dot(X, weights.T) + bias  # предсказание модели\n",
    "\n",
    "plt.xlabel('x')\n",
    "plt.ylabel('y')\n",
    "plt.plot(X[order, 0], y[order], 'o',\n",
    "         X[order, 0], y_pred[order], '-');"
   ]
  },
  {
   "cell_type": "code",
   "execution_count": null,
   "metadata": {},
   "outputs": [],
   "source": []
  }
 ],
 "metadata": {
  "kernelspec": {
   "display_name": "Python 3",
   "language": "python",
   "name": "python3"
  },
  "language_info": {
   "codemirror_mode": {
    "name": "ipython",
    "version": 3
   },
   "file_extension": ".py",
   "mimetype": "text/x-python",
   "name": "python",
   "nbconvert_exporter": "python",
   "pygments_lexer": "ipython3",
   "version": "3.6.6+"
  }
 },
 "nbformat": 4,
 "nbformat_minor": 2
}
